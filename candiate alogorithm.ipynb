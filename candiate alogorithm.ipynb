{
 "cells": [
  {
   "cell_type": "code",
   "execution_count": 1,
   "id": "a8e12465",
   "metadata": {},
   "outputs": [
    {
     "data": {
      "text/html": [
       "<div>\n",
       "<style scoped>\n",
       "    .dataframe tbody tr th:only-of-type {\n",
       "        vertical-align: middle;\n",
       "    }\n",
       "\n",
       "    .dataframe tbody tr th {\n",
       "        vertical-align: top;\n",
       "    }\n",
       "\n",
       "    .dataframe thead th {\n",
       "        text-align: right;\n",
       "    }\n",
       "</style>\n",
       "<table border=\"1\" class=\"dataframe\">\n",
       "  <thead>\n",
       "    <tr style=\"text-align: right;\">\n",
       "      <th></th>\n",
       "      <th>example</th>\n",
       "      <th>Sky</th>\n",
       "      <th>AirTemp</th>\n",
       "      <th>Humidity</th>\n",
       "      <th>Wind</th>\n",
       "      <th>Water</th>\n",
       "      <th>Forecast</th>\n",
       "      <th>EnjoySport</th>\n",
       "    </tr>\n",
       "  </thead>\n",
       "  <tbody>\n",
       "    <tr>\n",
       "      <th>0</th>\n",
       "      <td>1</td>\n",
       "      <td>sunny</td>\n",
       "      <td>warm</td>\n",
       "      <td>normal</td>\n",
       "      <td>strong</td>\n",
       "      <td>warm</td>\n",
       "      <td>same</td>\n",
       "      <td>yes</td>\n",
       "    </tr>\n",
       "    <tr>\n",
       "      <th>1</th>\n",
       "      <td>2</td>\n",
       "      <td>sunny</td>\n",
       "      <td>warm</td>\n",
       "      <td>high</td>\n",
       "      <td>strong</td>\n",
       "      <td>warm</td>\n",
       "      <td>same</td>\n",
       "      <td>yes</td>\n",
       "    </tr>\n",
       "    <tr>\n",
       "      <th>2</th>\n",
       "      <td>3</td>\n",
       "      <td>rainy</td>\n",
       "      <td>cold</td>\n",
       "      <td>high</td>\n",
       "      <td>strong</td>\n",
       "      <td>warm</td>\n",
       "      <td>change</td>\n",
       "      <td>no</td>\n",
       "    </tr>\n",
       "    <tr>\n",
       "      <th>3</th>\n",
       "      <td>4</td>\n",
       "      <td>sunny</td>\n",
       "      <td>warm</td>\n",
       "      <td>high</td>\n",
       "      <td>strong</td>\n",
       "      <td>cool</td>\n",
       "      <td>change</td>\n",
       "      <td>yes</td>\n",
       "    </tr>\n",
       "  </tbody>\n",
       "</table>\n",
       "</div>"
      ],
      "text/plain": [
       "   example    Sky AirTemp Humidity    Wind Water Forecast EnjoySport\n",
       "0        1  sunny    warm   normal  strong  warm     same        yes\n",
       "1        2  sunny    warm     high  strong  warm     same        yes\n",
       "2        3  rainy    cold     high  strong  warm   change         no\n",
       "3        4  sunny    warm     high  strong  cool   change        yes"
      ]
     },
     "execution_count": 1,
     "metadata": {},
     "output_type": "execute_result"
    }
   ],
   "source": [
    "import pandas as pd\n",
    "data=pd.read_csv(\"C:/Users/hp/OneDrive/Documents\\Ml/enjoy.csv\")\n",
    "data"
   ]
  },
  {
   "cell_type": "code",
   "execution_count": 2,
   "id": "68fcef41",
   "metadata": {},
   "outputs": [
    {
     "data": {
      "text/plain": [
       "(4, 8)"
      ]
     },
     "execution_count": 2,
     "metadata": {},
     "output_type": "execute_result"
    }
   ],
   "source": [
    "data.shape\n"
   ]
  },
  {
   "cell_type": "code",
   "execution_count": 6,
   "id": "f4b9905b",
   "metadata": {},
   "outputs": [
    {
     "name": "stdout",
     "output_type": "stream",
     "text": [
      "['0', '0', '0', '0', '0', '0']\n",
      "[]\n"
     ]
    }
   ],
   "source": [
    "S=[]\n",
    "G=[]\n",
    "for i in range(0,data.shape[1]-2):\n",
    "    S.append('0')\n",
    "    #G.append('?')\n",
    "    \n",
    "print(S)\n",
    "print(G)"
   ]
  },
  {
   "cell_type": "code",
   "execution_count": 7,
   "id": "c21659bb",
   "metadata": {},
   "outputs": [
    {
     "name": "stdout",
     "output_type": "stream",
     "text": [
      "Z: [array(['sunny', 'warm', 'normal', 'strong', 'warm', 'same'], dtype=object), array(['sunny', 'warm', 'high', 'strong', 'warm', 'same'], dtype=object), array(['rainy', 'cold', 'high', 'strong', 'warm', 'change'], dtype=object), array(['sunny', 'warm', 'high', 'strong', 'cool', 'change'], dtype=object)]\n",
      "G: [['?', '?', '?', '?', '?', '?'], ['?', '?', '?', '?', '?', '?'], ['?', '?', '?', '?', '?', '?'], ['?', '?', '?', '?', '?', '?'], ['?', '?', '?', '?', '?', '?'], ['?', '?', '?', '?', '?', '?']]\n",
      "S: ['sunny' 'warm' 'normal' 'strong' 'warm' 'same']\n"
     ]
    }
   ],
   "source": [
    "z=[]\n",
    "for i in range(0,data.shape[0]):\n",
    "    z.append(data.iloc[i,1:data.shape[1]-1].values)\n",
    "\n",
    "for i in range(data.shape[1]-2):\n",
    "    p = []\n",
    "    for j in range(data.shape[1]-2):\n",
    "        p.append('?')\n",
    "    G.append(p)\n",
    "\n",
    "print(\"Z:\",z)\n",
    "\n",
    "\n",
    "print(\"G:\",G)   \n",
    "S=z[0]\n",
    "print(\"S:\",S)"
   ]
  },
  {
   "cell_type": "code",
   "execution_count": 16,
   "id": "e64d1c2f",
   "metadata": {},
   "outputs": [
    {
     "name": "stdout",
     "output_type": "stream",
     "text": [
      "yes\n",
      "X: ['sunny' 'warm' 'normal' 'strong' 'warm' 'same']\n",
      "S: ['sunny' 'warm' 'normal' 'strong' 'warm' 'same']\n",
      "G: [['?', '?', '?', '?', '?', '?'], ['?', '?', '?', '?', '?', '?'], ['?', '?', '?', '?', '?', '?'], ['?', '?', '?', '?', '?', '?'], ['?', '?', '?', '?', '?', '?'], ['?', '?', '?', '?', '?', '?']]\n",
      "yes\n",
      "X: ['sunny' 'warm' 'high' 'strong' 'warm' 'same']\n",
      "S: ['sunny' 'warm' '?' 'strong' 'warm' 'same']\n",
      "G: [['?', '?', '?', '?', '?', '?'], ['?', '?', '?', '?', '?', '?'], ['?', '?', '?', '?', '?', '?'], ['?', '?', '?', '?', '?', '?'], ['?', '?', '?', '?', '?', '?'], ['?', '?', '?', '?', '?', '?']]\n",
      "no\n",
      "X: ['rainy' 'cold' 'high' 'strong' 'warm' 'change']\n",
      "S: ['sunny' 'warm' '?' 'strong' 'warm' 'same']\n",
      "G: [['sunny', '?', '?', '?', '?', '?'], ['?', 'warm', '?', '?', '?', '?'], ['?', '?', '?', '?', '?', '?'], ['?', '?', '?', '?', '?', '?'], ['?', '?', '?', '?', '?', '?'], ['?', '?', '?', '?', '?', 'same']]\n",
      "yes\n",
      "X: ['sunny' 'warm' 'high' 'strong' 'cool' 'change']\n",
      "S: ['sunny' 'warm' '?' 'strong' '?' '?']\n",
      "G: [['sunny', '?', '?', '?', '?', '?'], ['?', 'warm', '?', '?', '?', '?'], ['?', '?', '?', '?', '?', '?'], ['?', '?', '?', '?', '?', '?'], ['?', '?', '?', '?', '?', '?'], ['?', '?', '?', '?', '?', 'same']]\n"
     ]
    }
   ],
   "source": [
    "l=z[0]\n",
    "for i in range(0,data.shape[0]):\n",
    "        n=data.iloc[i,-1]\n",
    "        x1=z[i]\n",
    "        print(n)\n",
    "        if(n=='yes'):\n",
    "            \n",
    "            \n",
    "            for j in range(0,len(l)):\n",
    "                    if x1[j]!=S[j]:\n",
    "                        S[j]='?'\n",
    "                       \n",
    "                  \n",
    "        else:\n",
    "            for j in range(0,len(l)):\n",
    "                if x1[j]!=S[j]:\n",
    "                    G[j][j]=S[j]\n",
    "                    \n",
    "        print(\"X:\",x1)       \n",
    "        print(\"S:\",S)\n",
    "        print(\"G:\",G)"
   ]
  },
  {
   "cell_type": "code",
   "execution_count": 24,
   "id": "f3e9d7bd",
   "metadata": {},
   "outputs": [
    {
     "name": "stdout",
     "output_type": "stream",
     "text": [
      "generalized: [['sunny', '?', '?', '?', '?', '?'], ['?', 'warm', '?', '?', '?', '?']]\n",
      "specialized: ['sunny' 'warm' '?' 'strong' '?' '?']\n"
     ]
    }
   ],
   "source": [
    "\n",
    "gen=[]\n",
    "for i in range(0,len(l)):\n",
    "    if S[i]==G[i][i] and G[i][i]!='?':\n",
    "        gen.append(G[i])\n",
    "    \n",
    "    \n",
    "print(\"generalized:\",gen)    \n",
    "print(\"specialized:\",S)"
   ]
  }
 ],
 "metadata": {
  "kernelspec": {
   "display_name": "Python 3 (ipykernel)",
   "language": "python",
   "name": "python3"
  },
  "language_info": {
   "codemirror_mode": {
    "name": "ipython",
    "version": 3
   },
   "file_extension": ".py",
   "mimetype": "text/x-python",
   "name": "python",
   "nbconvert_exporter": "python",
   "pygments_lexer": "ipython3",
   "version": "3.9.13"
  }
 },
 "nbformat": 4,
 "nbformat_minor": 5
}
