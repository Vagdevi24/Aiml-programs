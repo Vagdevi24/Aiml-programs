{
 "cells": [
  {
   "cell_type": "code",
   "execution_count": 1,
   "id": "f8597e1a",
   "metadata": {},
   "outputs": [
    {
     "name": "stdout",
     "output_type": "stream",
     "text": [
      "    Attendence  Marks\n",
      "0           34     40\n",
      "1           45     45\n",
      "2           47     49\n",
      "3           60     69\n",
      "4           49     53\n",
      "5           64     68\n",
      "6           53     58\n",
      "7           70     78\n",
      "8           51     59\n",
      "9           81     85\n",
      "10          79     82\n",
      "11          80     82\n",
      "12          89     91\n",
      "13          90     92\n",
      "14          68     72\n",
      "15          85     87\n",
      "16          92     94\n",
      "17          94     96\n",
      "18          75     77\n",
      "19          98    100\n"
     ]
    }
   ],
   "source": [
    "import pandas as pd\n",
    "data=pd.read_csv(\"C:/Users/hp/OneDrive/Documents/Ml/polymark.csv\")\n",
    "print(pd.DataFrame(data))"
   ]
  },
  {
   "cell_type": "code",
   "execution_count": 2,
   "id": "249b2a29",
   "metadata": {},
   "outputs": [
    {
     "name": "stdout",
     "output_type": "stream",
     "text": [
      "x=     Attendence\n",
      "0           34\n",
      "1           45\n",
      "2           47\n",
      "3           60\n",
      "4           49\n",
      "5           64\n",
      "6           53\n",
      "7           70\n",
      "8           51\n",
      "9           81\n",
      "10          79\n",
      "11          80\n",
      "12          89\n",
      "13          90\n",
      "14          68\n",
      "15          85\n",
      "16          92\n",
      "17          94\n",
      "18          75\n",
      "19          98\n",
      "y= 0      40\n",
      "1      45\n",
      "2      49\n",
      "3      69\n",
      "4      53\n",
      "5      68\n",
      "6      58\n",
      "7      78\n",
      "8      59\n",
      "9      85\n",
      "10     82\n",
      "11     82\n",
      "12     91\n",
      "13     92\n",
      "14     72\n",
      "15     87\n",
      "16     94\n",
      "17     96\n",
      "18     77\n",
      "19    100\n",
      "Name: Marks, dtype: int64\n"
     ]
    }
   ],
   "source": [
    "x=data[['Attendence']]\n",
    "y=data['Marks']\n",
    "print(\"x=\",x)\n",
    "print(\"y=\",y)"
   ]
  },
  {
   "cell_type": "code",
   "execution_count": 6,
   "id": "76427661",
   "metadata": {},
   "outputs": [
    {
     "name": "stdout",
     "output_type": "stream",
     "text": [
      "xtrain=     Attendence\n",
      "12          89\n",
      "11          80\n",
      "8           51\n",
      "13          90\n",
      "6           53\n",
      "0           34\n",
      "15          85\n",
      "7           70\n",
      "2           47\n",
      "18          75\n",
      "10          79\n",
      "14          68\n",
      "3           60\n",
      "5           64\n",
      "9           81\n",
      "4           49\n",
      "xtest=     Attendence\n",
      "1           45\n",
      "16          92\n",
      "19          98\n",
      "17          94\n",
      "ytrain= 12    91\n",
      "11    82\n",
      "8     59\n",
      "13    92\n",
      "6     58\n",
      "0     40\n",
      "15    87\n",
      "7     78\n",
      "2     49\n",
      "18    77\n",
      "10    82\n",
      "14    72\n",
      "3     69\n",
      "5     68\n",
      "9     85\n",
      "4     53\n",
      "Name: Marks, dtype: int64\n",
      "ytest= 1      45\n",
      "16     94\n",
      "19    100\n",
      "17     96\n",
      "Name: Marks, dtype: int64\n",
      "(16, 1)\n",
      "(4, 1)\n",
      "(16,)\n",
      "(4,)\n"
     ]
    }
   ],
   "source": [
    "from sklearn.model_selection import train_test_split\n",
    "xtrain,xtest,ytrain,ytest=train_test_split(x,y,test_size=0.2)\n",
    "print(\"xtrain=\",xtrain)\n",
    "print(\"xtest=\",xtest)\n",
    "print(\"ytrain=\",ytrain)\n",
    "print(\"ytest=\",ytest)\n",
    "print(xtrain.shape)\n",
    "print(xtest.shape)\n",
    "print(ytrain.shape)\n",
    "print(ytest.shape)"
   ]
  },
  {
   "cell_type": "code",
   "execution_count": 10,
   "id": "79835ab2",
   "metadata": {},
   "outputs": [
    {
     "name": "stdout",
     "output_type": "stream",
     "text": [
      "enter the degree\n",
      "2\n",
      "    Actualvalue  predictedvalue\n",
      "1            45       50.513825\n",
      "16           94       93.066815\n",
      "19          100       97.637746\n",
      "17           96       94.612129\n"
     ]
    }
   ],
   "source": [
    "from sklearn.preprocessing import PolynomialFeatures\n",
    "from sklearn.linear_model import LinearRegression\n",
    "print(\"enter the degree\")\n",
    "n=int(input())\n",
    "pf1=PolynomialFeatures(degree=n)\n",
    "x1=pf1.fit_transform(xtrain)\n",
    "model=LinearRegression()\n",
    "model.fit(x1,ytrain)\n",
    "poly_xtest=pf1.fit_transform(xtest)\n",
    "res=model.predict(poly_xtest)\n",
    "print(pd.DataFrame({\"Actualvalue\":ytest,\"predictedvalue\":res}))\n"
   ]
  },
  {
   "cell_type": "code",
   "execution_count": 11,
   "id": "f9b0f76a",
   "metadata": {},
   "outputs": [
    {
     "data": {
      "text/plain": [
       "[<matplotlib.lines.Line2D at 0x208ac092a30>]"
      ]
     },
     "execution_count": 11,
     "metadata": {},
     "output_type": "execute_result"
    },
    {
     "data": {
      "image/png": "[encoded data removed]",
      "text/plain": [
       "<Figure size 640x480 with 1 Axes>"
      ]
     },
     "metadata": {},
     "output_type": "display_data"
    }
   ],
   "source": [
    "import matplotlib.pyplot as plt\n",
    "plt.plot(ytest,res)"
   ]
  },
  {
   "cell_type": "code",
   "execution_count": 12,
   "id": "cd917ecd",
   "metadata": {},
   "outputs": [
    {
     "name": "stdout",
     "output_type": "stream",
     "text": [
      "0.9808093369731001\n"
     ]
    }
   ],
   "source": [
    "from sklearn.metrics import r2_score\n",
    "r=r2_score(ytest,res)\n",
    "print(r)"
   ]
  },
  {
   "cell_type": "code",
   "execution_count": 13,
   "id": "30d0c914",
   "metadata": {},
   "outputs": [
    {
     "data": {
      "text/plain": [
       "2.5492837216060984"
      ]
     },
     "execution_count": 13,
     "metadata": {},
     "output_type": "execute_result"
    }
   ],
   "source": [
    "from sklearn.metrics import mean_absolute_error\n",
    "mean_absolute_error(ytest,res)\n"
   ]
  }
 ],
 "metadata": {
  "kernelspec": {
   "display_name": "Python 3 (ipykernel)",
   "language": "python",
   "name": "python3"
  },
  "language_info": {
   "codemirror_mode": {
    "name": "ipython",
    "version": 3
   },
   "file_extension": ".py",
   "mimetype": "text/x-python",
   "name": "python",
   "nbconvert_exporter": "python",
   "pygments_lexer": "ipython3",
   "version": "3.9.13"
  }
 },
 "nbformat": 4,
 "nbformat_minor": 5
}
